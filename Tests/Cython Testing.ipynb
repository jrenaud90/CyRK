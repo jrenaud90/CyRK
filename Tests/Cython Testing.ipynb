{
 "cells": [
  {
   "cell_type": "code",
   "execution_count": 2,
   "id": "4bff7ff7-9734-4abf-82d1-b20be6b3fa46",
   "metadata": {},
   "outputs": [],
   "source": [
    "%load_ext cython"
   ]
  },
  {
   "cell_type": "code",
   "execution_count": 45,
   "id": "592c77c9-12d3-4e69-8c1d-283e2e4e0d04",
   "metadata": {},
   "outputs": [
    {
     "name": "stdout",
     "output_type": "stream",
     "text": [
      "3.0.12\n"
     ]
    }
   ],
   "source": [
    "import cython\n",
    "print(cython.__version__)"
   ]
  },
  {
   "cell_type": "code",
   "execution_count": 43,
   "id": "ba839a0c-3a8b-4a0c-ad3b-941bd025b3a1",
   "metadata": {},
   "outputs": [
    {
     "name": "stderr",
     "output_type": "stream",
     "text": [
      "\n",
      "Error compiling Cython file:\n",
      "------------------------------------------------------------\n",
      "...\n",
      "cdef optional[double] test = 12\n",
      "update_properties(test)\n",
      "cdef optional[double] test2 = 0\n",
      "update_properties(test2)\n",
      "\n",
      "update_properties(nullopt)\n",
      "                  ^\n",
      "------------------------------------------------------------\n",
      "\n",
      "C:\\Users\\joepr\\.ipython\\cython\\_cython_magic_2765529c5691f0ea4b15217db4ef91b0b81c9f2d.pyx:35:18: Cannot assign type 'nullopt_t' to 'optional[double]'\n"
     ]
    }
   ],
   "source": [
    "%%cython --force -a\n",
    "# distutils: language = c++\n",
    "# distutils: extra_compile_args = /std:c++20\n",
    "\n",
    "import numpy as np\n",
    "cimport numpy as np\n",
    "np.import_array()\n",
    "\n",
    "from libcpp.vector cimport vector\n",
    "from libcpp.optional cimport optional, nullopt\n",
    "\n",
    "\n",
    "cdef extern from * nogil:\n",
    "    \"\"\"\n",
    "    #include <iostream>\n",
    "    #include <vector>\n",
    "    #include <optional>\n",
    "    void update_properties(std::optional<double> number)\n",
    "    {\n",
    "        if (number)\n",
    "        {\n",
    "            std::cout << \"number was provided; It is \" << number.value() << std::endl;\n",
    "        }\n",
    "        else\n",
    "        {\n",
    "            std::cout << \"number was not provided.\" << std::endl;\n",
    "        }\n",
    "    }\n",
    "    \"\"\"\n",
    "    void update_properties(optional[double] number)\n",
    "\n",
    "cdef optional[double] test = 12\n",
    "update_properties(test)\n",
    "cdef optional[double] test2 = 0\n",
    "update_properties(test2)\n",
    "\n",
    "# Uncomment the line below to get compile error.\n",
    "# update_properties(nullopt)\n"
   ]
  }
 ],
 "metadata": {
  "kernelspec": {
   "display_name": "Python 3 (ipykernel)",
   "language": "python",
   "name": "python3"
  },
  "language_info": {
   "codemirror_mode": {
    "name": "ipython",
    "version": 3
   },
   "file_extension": ".py",
   "mimetype": "text/x-python",
   "name": "python",
   "nbconvert_exporter": "python",
   "pygments_lexer": "ipython3",
   "version": "3.13.3"
  }
 },
 "nbformat": 4,
 "nbformat_minor": 5
}
