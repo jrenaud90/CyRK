{
 "cells": [
  {
   "cell_type": "code",
   "execution_count": 1,
   "id": "bb2cb6a7",
   "metadata": {},
   "outputs": [],
   "source": [
    "import numpy as np\n",
    "import matplotlib.pyplot as plt\n",
    "from numba import njit\n",
    "\n",
    "@njit\n",
    "def diffeq_accuracy(dy, t, y):\n",
    "    dy[0] = np.sin(t) - y[1]  # dydt = sin(t) - x(t)\n",
    "    dy[1] = np.cos(t) + y[0]  # dxdt = cos(t) + y(t)\n",
    "    \n",
    "@njit\n",
    "def diffeq_accuracy_2(t, y, dy):\n",
    "    dy[0] = np.sin(t) - y[1]  # dydt = sin(t) - x(t)\n",
    "    dy[1] = np.cos(t) + y[0]  # dxdt = cos(t) + y(t)\n",
    "\n",
    "@njit\n",
    "def diffeq_accuracy_3(t, y):\n",
    "    dy = np.empty(y.shape, dtype=np.float64)\n",
    "    dy[0] = np.sin(t) - y[1]  # dydt = sin(t) - x(t)\n",
    "    dy[1] = np.cos(t) + y[0]  # dxdt = cos(t) + y(t)\n",
    "    return dy\n",
    "\n",
    "@njit\n",
    "def correct_answer(t, c1_, c2_):\n",
    "    y = np.empty((2, t.size), dtype=np.float64)\n",
    "    y[0] = -c1_ * np.sin(t) + c2_ * np.cos(t) - (np.cos(t) / 2)  # -c1 * sin(t) + c2 * cos(t) - cos(t) / 2\n",
    "    # At t=0; y = c2 - 1/2\n",
    "    y[1] = c2_ * np.sin(t) + c1_ * np.cos(t) + (np.sin(t) / 2)   # c2 * sin(t) + c1 * cos(t) + sin(t) / 2\n",
    "    # At t=0; x = c1\n",
    "    return y\n",
    "\n",
    "# Initial Conditions\n",
    "# y=0 --> c2 = + 1/2\n",
    "c2 = 0.5\n",
    "# x=1 --> c1 = + 1\n",
    "c1 = 1.0\n",
    "y0 = np.asarray((0., 1.), dtype=np.float64)\n",
    "time_span_ = (0., 10.)"
   ]
  },
  {
   "cell_type": "code",
   "execution_count": 2,
   "id": "8acb6f5c",
   "metadata": {},
   "outputs": [],
   "source": [
    "from CyRK import pysolve_ivp, cyrk_ode\n",
    "from scipy.integrate import solve_ivp"
   ]
  },
  {
   "cell_type": "code",
   "execution_count": 5,
   "id": "a1305367",
   "metadata": {
    "scrolled": false
   },
   "outputs": [
    {
     "name": "stdout",
     "output_type": "stream",
     "text": [
      "\n",
      " RTOL =  1e-08\n",
      "(117,)\n",
      "SciPy (sol)\t|\tPySolve (sol)\t|\tcyrk_ode (sol)\n",
      "9.70354e-15\t|\t9.70355e-15\t|\t9.70346e-15\n",
      "\n",
      "SciPy (teval)\t|\tPySolve (teval)\t|\tcyrk_ode (teval)\t|\tPySolve (dense)\n",
      "-7.89887e-15\t|\t-7.89887e-15\t|\t3.81221e-06\t|\t-7.89887e-15\n",
      "\n",
      " RTOL =  1e-08\n",
      "(117,)\n",
      "SciPy (sol)\t|\tPySolve (sol)\t|\tcyrk_ode (sol)\n",
      "9.70354e-15\t|\t9.70355e-15\t|\t9.70346e-15\n",
      "\n",
      "SciPy (teval)\t|\tPySolve (teval)\t|\tcyrk_ode (teval)\t|\tPySolve (dense)\n",
      "-7.89887e-15\t|\t-7.89887e-15\t|\t3.81221e-06\t|\t-7.89887e-15\n",
      "\n",
      " RTOL =  1e-08\n",
      "(117,)\n",
      "SciPy (sol)\t|\tPySolve (sol)\t|\tcyrk_ode (sol)\n",
      "9.70354e-15\t|\t9.70355e-15\t|\t9.70346e-15\n",
      "\n",
      "SciPy (teval)\t|\tPySolve (teval)\t|\tcyrk_ode (teval)\t|\tPySolve (dense)\n",
      "-7.89887e-15\t|\t-7.89887e-15\t|\t3.81221e-06\t|\t-7.89887e-15\n",
      "\n",
      " RTOL =  1e-08\n",
      "(117,)\n",
      "SciPy (sol)\t|\tPySolve (sol)\t|\tcyrk_ode (sol)\n",
      "9.70354e-15\t|\t9.70355e-15\t|\t9.70346e-15\n",
      "\n",
      "SciPy (teval)\t|\tPySolve (teval)\t|\tcyrk_ode (teval)\t|\tPySolve (dense)\n",
      "-7.89887e-15\t|\t-7.89887e-15\t|\t3.81221e-06\t|\t-7.89887e-15\n"
     ]
    },
    {
     "name": "stderr",
     "output_type": "stream",
     "text": [
      "C:\\Users\\joepr\\AppData\\Local\\Temp\\ipykernel_26928\\2975167494.py:24: RuntimeWarning: invalid value encountered in divide\n",
      "  chi_sci_sol = np.nansum((scipy_sol.y - correct_answer(scipy_sol.t, c1, c2))**2 / correct_answer(scipy_sol.t, c1, c2))\n",
      "C:\\Users\\joepr\\AppData\\Local\\Temp\\ipykernel_26928\\2975167494.py:25: RuntimeWarning: invalid value encountered in divide\n",
      "  chi_crykode_sol = np.nansum((cyrk_sol[1] - correct_answer(cyrk_sol[0], c1, c2))**2 / correct_answer(cyrk_sol[0], c1, c2))\n",
      "C:\\Users\\joepr\\AppData\\Local\\Temp\\ipykernel_26928\\2975167494.py:26: RuntimeWarning: invalid value encountered in divide\n",
      "  chi_pysolve_sol = np.nansum((pysolve_sol.y - correct_answer(pysolve_sol.t, c1, c2))**2 / correct_answer(pysolve_sol.t, c1, c2))\n",
      "C:\\Users\\joepr\\AppData\\Local\\Temp\\ipykernel_26928\\2975167494.py:31: RuntimeWarning: invalid value encountered in divide\n",
      "  chi_sci_teval = np.nansum((scipy_teval.y - correct_answer(scipy_teval.t, c1, c2))**2 / correct_answer(scipy_teval.t, c1, c2))\n",
      "C:\\Users\\joepr\\AppData\\Local\\Temp\\ipykernel_26928\\2975167494.py:32: RuntimeWarning: invalid value encountered in divide\n",
      "  chi_crykode_teval = np.nansum((cyrk_teval[1] - correct_answer(cyrk_teval[0], c1, c2))**2 / correct_answer(cyrk_teval[0], c1, c2))\n",
      "C:\\Users\\joepr\\AppData\\Local\\Temp\\ipykernel_26928\\2975167494.py:33: RuntimeWarning: invalid value encountered in divide\n",
      "  chi_pysolve_teval = np.nansum((pysolve_teval.y - correct_answer(pysolve_teval.t, c1, c2))**2 / correct_answer(pysolve_teval.t, c1, c2))\n",
      "C:\\Users\\joepr\\AppData\\Local\\Temp\\ipykernel_26928\\2975167494.py:35: RuntimeWarning: invalid value encountered in divide\n",
      "  chi_pysolve_dense = np.nansum((dense_sol - correct_answer(t_eval, c1, c2))**2 / correct_answer(t_eval, c1, c2))\n"
     ]
    }
   ],
   "source": [
    "rtols = [1.0e-5, 1.0e-7, 1.0e-9, 1.0e-11]\n",
    "\n",
    "integration_method = 'RK45'\n",
    "rk_method = 1\n",
    "t_span = (0., 10.)\n",
    "t_eval = np.linspace(0.0, 10.0, 100)\n",
    "\n",
    "for rtol in rtols:\n",
    "    atol = rtol/100\n",
    "    rtol = 1.0e-8\n",
    "    atol = 1.0e-9\n",
    "    \n",
    "    print(\"\\n RTOL = \", rtol)\n",
    "    \n",
    "    scipy_sol   = solve_ivp(diffeq_accuracy_3, t_span, y0, rtol=rtol, atol=atol, method=integration_method)\n",
    "    scipy_teval = solve_ivp(diffeq_accuracy_3, t_span, y0, rtol=rtol, atol=atol, method=integration_method, t_eval=t_eval)\n",
    "    \n",
    "    cyrk_sol   = cyrk_ode(diffeq_accuracy_2, t_span, y0, rtol=rtol, atol=atol, rk_method=rk_method, raise_warnings=False)\n",
    "    cyrk_teval = cyrk_ode(diffeq_accuracy_2, t_span, y0, rtol=rtol, atol=atol, rk_method=rk_method, t_eval=t_eval, raise_warnings=False)\n",
    "    \n",
    "    pysolve_sol   = pysolve_ivp(diffeq_accuracy, t_span, y0, rtol=rtol, atol=atol, method=integration_method, dense_output=True, pass_dy_as_arg=True)\n",
    "    pysolve_teval = pysolve_ivp(diffeq_accuracy, t_span, y0, rtol=rtol, atol=atol, method=integration_method, t_eval=t_eval, pass_dy_as_arg=True)\n",
    "    print(pysolve_sol.t.shape)\n",
    "    chi_sci_sol = np.nansum((scipy_sol.y - correct_answer(scipy_sol.t, c1, c2))**2 / correct_answer(scipy_sol.t, c1, c2))\n",
    "    chi_crykode_sol = np.nansum((cyrk_sol[1] - correct_answer(cyrk_sol[0], c1, c2))**2 / correct_answer(cyrk_sol[0], c1, c2))\n",
    "    chi_pysolve_sol = np.nansum((pysolve_sol.y - correct_answer(pysolve_sol.t, c1, c2))**2 / correct_answer(pysolve_sol.t, c1, c2))\n",
    "    \n",
    "    print(f\"SciPy (sol)\\t|\\tPySolve (sol)\\t|\\tcyrk_ode (sol)\")\n",
    "    print(f\"{chi_sci_sol:0.5e}\\t|\\t{chi_pysolve_sol:0.5e}\\t|\\t{chi_crykode_sol:0.5e}\")\n",
    "    \n",
    "    chi_sci_teval = np.nansum((scipy_teval.y - correct_answer(scipy_teval.t, c1, c2))**2 / correct_answer(scipy_teval.t, c1, c2))\n",
    "    chi_crykode_teval = np.nansum((cyrk_teval[1] - correct_answer(cyrk_teval[0], c1, c2))**2 / correct_answer(cyrk_teval[0], c1, c2))\n",
    "    chi_pysolve_teval = np.nansum((pysolve_teval.y - correct_answer(pysolve_teval.t, c1, c2))**2 / correct_answer(pysolve_teval.t, c1, c2))\n",
    "    dense_sol = pysolve_sol(t_eval)\n",
    "    chi_pysolve_dense = np.nansum((dense_sol - correct_answer(t_eval, c1, c2))**2 / correct_answer(t_eval, c1, c2))\n",
    "    print()\n",
    "    print(f\"SciPy (teval)\\t|\\tPySolve (teval)\\t|\\tcyrk_ode (teval)\\t|\\tPySolve (dense)\")\n",
    "    print(f\"{chi_sci_teval:0.5e}\\t|\\t{chi_pysolve_teval:0.5e}\\t|\\t{chi_crykode_teval:0.5e}\\t|\\t{chi_pysolve_dense:0.5e}\")\n",
    "    \n",
    "    \n",
    "#     fig1, ax1 = plt.subplots()\n",
    "#     ax1.plot(scipy_sol.t, scipy_sol.y[0], c='b')\n",
    "#     ax1.plot(scipy_sol.t, scipy_sol.y[1], c='r')\n",
    "#     ax1.set(title=\"SciPy (sol)\")\n",
    "    \n",
    "#     fig12, ax12 = plt.subplots()\n",
    "#     ax12.plot(scipy_teval.t, scipy_teval.y[0], c='b')\n",
    "#     ax12.plot(scipy_teval.t, scipy_teval.y[1], c='r')\n",
    "#     ax12.set(title=\"SciPy (t-eval)\")\n",
    "    \n",
    "#     fig2, ax2 = plt.subplots()\n",
    "#     ax2.plot(pysolve_sol.t, pysolve_sol.y[0], c='b')\n",
    "#     ax2.plot(pysolve_sol.t, pysolve_sol.y[1], c='r')\n",
    "#     ax2.set(title=\"PySolve (sol)\")\n",
    "    \n",
    "#     fig22, ax22 = plt.subplots()\n",
    "#     ax22.plot(pysolve_teval.t, pysolve_teval.y[0], c='b')\n",
    "#     ax22.plot(pysolve_teval.t, pysolve_teval.y[1], c='r')\n",
    "#     ax22.set(title=\"PySolve (t-eval)\")\n",
    "    \n",
    "#     fig23, ax23 = plt.subplots()\n",
    "#     ax23.plot(t_eval, dense_sol[0], c='b')\n",
    "#     ax23.plot(t_eval, dense_sol[1], c='r')\n",
    "#     ax23.set(title=\"PySolve (dense)\")\n",
    "    \n",
    "#     fig4, ax4 = plt.subplots()\n",
    "#     ax4.plot(scipy_sol.t, (scipy_sol.y[0] - cyrk_sol[1][0]) / scipy_sol.y[0], c='b')\n",
    "#     ax4.plot(scipy_sol.t, (scipy_sol.y[1] - cyrk_sol[1][1]) / scipy_sol.y[1], c='r')\n",
    "#     ax4.set(title=\"SciPy (sol) - cyrk_ode\")\n",
    "    \n",
    "#     fig5, ax5 = plt.subplots()\n",
    "#     ax5.plot(scipy_sol.t, (scipy_sol.y[0] - pysolve_sol.y[0]) / scipy_sol.y[0], c='b')\n",
    "#     ax5.plot(scipy_sol.t, (scipy_sol.y[1] - pysolve_sol.y[1]) / scipy_sol.y[1], c='r')\n",
    "#     ax5.scatter(scipy_sol.t, np.zeros_like(scipy_sol.t), c='g', s=1)\n",
    "#     ax5.scatter(pysolve_sol.t, np.zeros_like(scipy_sol.t), c='purple', s=5)\n",
    "#     ax5.set(title=\"SciPy (sol) - pysolve\")\n",
    "    \n",
    "#     fig5, ax5 = plt.subplots()\n",
    "#     ax5.plot(cyrk_sol[0], (cyrk_sol[1][0] - pysolve_sol.y[0]) / cyrk_sol[1][0], c='b')\n",
    "#     ax5.plot(cyrk_sol[0], (cyrk_sol[1][1] - pysolve_sol.y[1]) / cyrk_sol[1][1], c='r')\n",
    "#     ax5.scatter(scipy_sol.t, np.zeros_like(scipy_sol.t), c='g', s=1)\n",
    "#     ax5.scatter(pysolve_sol.t, np.zeros_like(scipy_sol.t), c='purple', s=5)\n",
    "#     ax5.set(title=\"cyrk_ode - pysolve_sol\")\n",
    "    \n",
    "#     sci_step_size = np.diff(scipy_sol.t)\n",
    "#     solpy_step_size = np.diff(pysolve_sol.t)\n",
    "#     cyrk_step_size = np.diff(cyrk_sol[0])\n",
    "    \n",
    "#     fig5, ax5 = plt.subplots()\n",
    "# #     ax5.plot(scipy_sol.t, (scipy_sol.y[0] - pysolve_sol.y[0]) / scipy_sol.y[0], c='b', ls=':')\n",
    "# #     ax5.plot(scipy_sol.t, (scipy_sol.y[1] - pysolve_sol.y[1]) / scipy_sol.y[1], c='r', ls=':')\n",
    "#     ax5b = ax5.twinx()\n",
    "#     ax5b.plot(scipy_sol.t[1:], sci_step_size, c='b', marker='.')\n",
    "#     ax5b.plot(pysolve_sol.t[1:], solpy_step_size, c='r', marker='.')\n",
    "# #     ax5b.plot(cyrk_sol[0][1:], cyrk_step_size, c='orange', marker='.')\n",
    "#     ax5b.set(ylim=(0.3, 0.4))\n",
    "#     plt.show()\n",
    "    \n",
    "#     break\n",
    "    \n",
    "    \n",
    "    \n",
    "    \n",
    "    "
   ]
  },
  {
   "cell_type": "code",
   "execution_count": 12,
   "id": "d5ff4ca3",
   "metadata": {},
   "outputs": [
    {
     "name": "stdout",
     "output_type": "stream",
     "text": [
      "(2, 147)\n",
      "(147,)\n"
     ]
    }
   ],
   "source": [
    "print(pysolve_sol.y.shape)\n",
    "print(pysolve_sol.t.shape)"
   ]
  },
  {
   "cell_type": "code",
   "execution_count": 8,
   "id": "a6e08808",
   "metadata": {},
   "outputs": [
    {
     "data": {
      "text/plain": [
       "<CyRK.cy.cysolverNew.WrapCySolverResult at 0x1f7c03bc9e0>"
      ]
     },
     "execution_count": 8,
     "metadata": {},
     "output_type": "execute_result"
    }
   ],
   "source": [
    "pysolve_teval"
   ]
  },
  {
   "cell_type": "code",
   "execution_count": 4,
   "id": "e4744df0",
   "metadata": {},
   "outputs": [
    {
     "name": "stdout",
     "output_type": "stream",
     "text": [
      "(2, 100)\n",
      "(100,)\n"
     ]
    }
   ],
   "source": [
    "print(pysolve_teval.y.shape)\n",
    "print(pysolve_teval.t.shape)"
   ]
  },
  {
   "cell_type": "code",
   "execution_count": 5,
   "id": "b0ac4fea",
   "metadata": {},
   "outputs": [
    {
     "data": {
      "text/plain": [
       "array([ 0.        ,  0.1010101 ,  0.2020202 ,  0.3030303 ,  0.4040404 ,\n",
       "        0.50505051,  0.60606061,  0.70707071,  0.80808081,  0.90909091,\n",
       "        1.01010101,  1.11111111,  1.21212121,  1.31313131,  1.41414141,\n",
       "        1.51515152,  1.61616162,  1.71717172,  1.81818182,  1.91919192,\n",
       "        2.02020202,  2.12121212,  2.22222222,  2.32323232,  2.42424242,\n",
       "        2.52525253,  2.62626263,  2.72727273,  2.82828283,  2.92929293,\n",
       "        3.03030303,  3.13131313,  3.23232323,  3.33333333,  3.43434343,\n",
       "        3.53535354,  3.63636364,  3.73737374,  3.83838384,  3.93939394,\n",
       "        4.04040404,  4.14141414,  4.24242424,  4.34343434,  4.44444444,\n",
       "        4.54545455,  4.64646465,  4.74747475,  4.84848485,  4.94949495,\n",
       "        5.05050505,  5.15151515,  5.25252525,  5.35353535,  5.45454545,\n",
       "        5.55555556,  5.65656566,  5.75757576,  5.85858586,  5.95959596,\n",
       "        6.06060606,  6.16161616,  6.26262626,  6.36363636,  6.46464646,\n",
       "        6.56565657,  6.66666667,  6.76767677,  6.86868687,  6.96969697,\n",
       "        7.07070707,  7.17171717,  7.27272727,  7.37373737,  7.47474747,\n",
       "        7.57575758,  7.67676768,  7.77777778,  7.87878788,  7.97979798,\n",
       "        8.08080808,  8.18181818,  8.28282828,  8.38383838,  8.48484848,\n",
       "        8.58585859,  8.68686869,  8.78787879,  8.88888889,  8.98989899,\n",
       "        9.09090909,  9.19191919,  9.29292929,  9.39393939,  9.49494949,\n",
       "        9.5959596 ,  9.6969697 ,  9.7979798 ,  9.8989899 , 10.        ])"
      ]
     },
     "execution_count": 5,
     "metadata": {},
     "output_type": "execute_result"
    }
   ],
   "source": [
    "pysolve_teval.t"
   ]
  },
  {
   "cell_type": "code",
   "execution_count": null,
   "id": "8c9c5b31",
   "metadata": {},
   "outputs": [],
   "source": [
    "A_my = np.asarray(((0.0), (0.0), (0.0), (0.0), (0.0), (0.2), (0.0), (0.0), (0.0), (0.0), (0.075), (0.225), (0.0), (0.0), (0.0), (0.9777777777777777), (-3.7333333333333334), (3.5555555555555554), (0.0), (0.0), (2.9525986892242035), (-11.595793324188385), (9.822892851699436), (-0.2908093278463649), (0.0), (2.8462752525252526), (-10.757575757575758), (8.906422717743473), (0.2784090909090909), (-0.2735313036020583)), dtype=np.float64)\n",
    "A = np.array([\n",
    "        [0, 0, 0, 0, 0],\n",
    "        [1/5, 0, 0, 0, 0],\n",
    "        [3/40, 9/40, 0, 0, 0],\n",
    "        [44/45, -56/15, 32/9, 0, 0],\n",
    "        [19372/6561, -25360/2187, 64448/6561, -212/729, 0],\n",
    "        [9017/3168, -355/33, 46732/5247, 49/176, -5103/18656]\n",
    "    ], dtype=np.longdouble)"
   ]
  },
  {
   "cell_type": "code",
   "execution_count": 11,
   "id": "185db2fb",
   "metadata": {},
   "outputs": [
    {
     "data": {
      "text/plain": [
       "array([  0.        ,   0.        ,   0.        ,   0.        ,\n",
       "         0.        ,   0.2       ,   0.        ,   0.        ,\n",
       "         0.        ,   0.        ,   0.075     ,   0.225     ,\n",
       "         0.        ,   0.        ,   0.        ,   0.97777778,\n",
       "        -3.73333333,   3.55555556,   0.        ,   0.        ,\n",
       "         2.95259869, -11.59579332,   9.82289285,  -0.29080933,\n",
       "         0.        ,   2.84627525, -10.75757576,   8.90642272,\n",
       "         0.27840909,  -0.2735313 ])"
      ]
     },
     "execution_count": 11,
     "metadata": {},
     "output_type": "execute_result"
    }
   ],
   "source": [
    "A_my"
   ]
  },
  {
   "cell_type": "code",
   "execution_count": 23,
   "id": "958a7431",
   "metadata": {},
   "outputs": [
    {
     "name": "stdout",
     "output_type": "stream",
     "text": [
      "    0.00000000000000000000000000000000e+00,\n",
      "    0.00000000000000000000000000000000e+00,\n",
      "    0.00000000000000000000000000000000e+00,\n",
      "    0.00000000000000000000000000000000e+00,\n",
      "    0.00000000000000000000000000000000e+00,\n",
      "    2.00000000000000011102230246251565e-01,\n",
      "    0.00000000000000000000000000000000e+00,\n",
      "    0.00000000000000000000000000000000e+00,\n",
      "    0.00000000000000000000000000000000e+00,\n",
      "    0.00000000000000000000000000000000e+00,\n",
      "    7.49999999999999972244424384371086e-02,\n",
      "    2.25000000000000005551115123125783e-01,\n",
      "    0.00000000000000000000000000000000e+00,\n",
      "    0.00000000000000000000000000000000e+00,\n",
      "    0.00000000000000000000000000000000e+00,\n",
      "    9.77777777777777745704668177495478e-01,\n",
      "    -3.73333333333333339254522798000835e+00,\n",
      "    3.55555555555555535818257339997217e+00,\n",
      "    0.00000000000000000000000000000000e+00,\n",
      "    0.00000000000000000000000000000000e+00,\n",
      "    2.95259868922420354309110734902788e+00,\n",
      "    -1.15957933241883850428166624624282e+01,\n",
      "    9.82289285169943582332052756100893e+00,\n",
      "    -2.90809327846364873426665553779458e-01,\n",
      "    0.00000000000000000000000000000000e+00,\n",
      "    2.84627525252525259702451876364648e+00,\n",
      "    -1.07575757575757577910735562909395e+01,\n",
      "    8.90642271774347271673377690603957e+00,\n",
      "    2.78409090909090883858567622155533e-01,\n",
      "    -2.73531303602058295521004538386478e-01,\n"
     ]
    }
   ],
   "source": [
    "np.set_printoptions(precision=32)\n",
    "for a in A.flatten():\n",
    "    print(f\"    {a:0.32e},\")"
   ]
  }
 ],
 "metadata": {
  "kernelspec": {
   "display_name": "Python 3 (ipykernel)",
   "language": "python",
   "name": "python3"
  },
  "language_info": {
   "codemirror_mode": {
    "name": "ipython",
    "version": 3
   },
   "file_extension": ".py",
   "mimetype": "text/x-python",
   "name": "python",
   "nbconvert_exporter": "python",
   "pygments_lexer": "ipython3",
   "version": "3.11.5"
  }
 },
 "nbformat": 4,
 "nbformat_minor": 5
}
